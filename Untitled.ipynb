{
 "cells": [
  {
   "cell_type": "code",
   "execution_count": 1,
   "id": "d04b495b",
   "metadata": {},
   "outputs": [
    {
     "name": "stdout",
     "output_type": "stream",
     "text": [
      "['Charles Casper Stockham', 'Diana DeGette', 'Raymon Anthony Doane']\n"
     ]
    }
   ],
   "source": [
    "# Add our dependencies.\n",
    "import csv\n",
    "import os\n",
    "\n",
    "# Assign a variable to load a file from a path.\n",
    "file_to_load = os.path.join(\"Resources\", \"election_results.csv\")\n",
    "# Assign a variable to save the file to a path.\n",
    "file_to_save = os.path.join(\"analysis\", \"election_analysis.txt\")\n",
    "\n",
    "# Initalizing total vote counter (equivalent to number of rows in CSV)\n",
    "total_votes = 0\n",
    "\n",
    "# Declare a list that will contain candidate options\n",
    "candidate_options = []\n",
    "\n",
    "# Declaring a dictionary to count the number of votes by candidates\n",
    "candidate_votes = {}\n",
    "\n",
    "# Open the election results and read the file.\n",
    "with open(file_to_load) as election_data:\n",
    "\n",
    "    # To do: read and analyze the data here.\n",
    "    file_reader = csv.reader(election_data)\n",
    "\n",
    "    # Read header row and skip it\n",
    "    # Re: columns are {Ballot ID, County, Candidate}\n",
    "    headers = next(file_reader)\n",
    "\n",
    "    # Loop through each row in CSV file (will output a list)\n",
    "    for row in file_reader:\n",
    "        total_votes += 1\n",
    "\n",
    "        # Grabbing each candidates name from the row\n",
    "        candidate_name = row[2]\n",
    "\n",
    "        # Adding each candidate name to the overall candidate list, but only unique names\n",
    "        if candidate_name not in candidate_options:\n",
    "            candidate_options.append(candidate_name)\n",
    "\n",
    "            # Candidate name is key for the dictionary, now this begins the tracking to see\n",
    "            # how many votes each candidate received.\n",
    "            candidate_votes[candidate_name] = 0\n",
    "\n",
    "            # Each time a unique instance of the candidate appears in the file, we will add\n",
    "            # one vote onto the candidate's value inr\n",
    "            candidate_votes[candidate_name] += 1\n",
    "\n",
    "# Print out results\n",
    "print(candidate_options)"
   ]
  },
  {
   "cell_type": "code",
   "execution_count": null,
   "id": "dd0da239",
   "metadata": {},
   "outputs": [],
   "source": []
  }
 ],
 "metadata": {
  "kernelspec": {
   "display_name": "Python 3",
   "language": "python",
   "name": "python3"
  },
  "language_info": {
   "codemirror_mode": {
    "name": "ipython",
    "version": 3
   },
   "file_extension": ".py",
   "mimetype": "text/x-python",
   "name": "python",
   "nbconvert_exporter": "python",
   "pygments_lexer": "ipython3",
   "version": "3.8.8"
  }
 },
 "nbformat": 4,
 "nbformat_minor": 5
}
